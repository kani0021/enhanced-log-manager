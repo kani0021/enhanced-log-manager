{
 "cells": [
  {
   "cell_type": "code",
   "execution_count": 1,
   "id": "47dbc8e8",
   "metadata": {},
   "outputs": [],
   "source": [
    "import logging"
   ]
  },
  {
   "cell_type": "code",
   "execution_count": 5,
   "id": "1e16cdfd",
   "metadata": {},
   "outputs": [
    {
     "name": "stdout",
     "output_type": "stream",
     "text": [
      "Collecting logstash-formatterNote: you may need to restart the kernel to use updated packages.\n",
      "\n",
      "  Downloading logstash_formatter-0.5.17.tar.gz (4.7 kB)\n",
      "  Preparing metadata (setup.py): started\n",
      "  Preparing metadata (setup.py): finished with status 'done'\n",
      "Building wheels for collected packages: logstash-formatter\n",
      "  Building wheel for logstash-formatter (setup.py): started\n",
      "  Building wheel for logstash-formatter (setup.py): finished with status 'done'\n",
      "  Created wheel for logstash-formatter: filename=logstash_formatter-0.5.17-py3-none-any.whl size=4685 sha256=65ef1142c12ba9384be23b4ef52f75b267b6993a980d1b1598587cd1c3eddef9\n",
      "  Stored in directory: c:\\users\\kanishk.mudgal1\\appdata\\local\\pip\\cache\\wheels\\78\\5b\\44\\99b8b276317b23c204aaba367349d1241cea2e74359016b11e\n",
      "Successfully built logstash-formatter\n",
      "Installing collected packages: logstash-formatter\n",
      "Successfully installed logstash-formatter-0.5.17\n"
     ]
    }
   ],
   "source": [
    "pip install logstash-formatter"
   ]
  },
  {
   "cell_type": "code",
   "execution_count": null,
   "id": "d38e4c89",
   "metadata": {},
   "outputs": [],
   "source": []
  },
  {
   "cell_type": "code",
   "execution_count": 2,
   "id": "83dca5e4",
   "metadata": {},
   "outputs": [],
   "source": [
    "#Configure the logging settings:\n",
    "\n",
    "logging.basicConfig(level=logging.DEBUG,\n",
    "                    format='%(asctime)s [%(levelname)s] - %(message)s',\n",
    "                    handlers=[\n",
    "                        logging.FileHandler('app.log'),  # Save logs to a file\n",
    "                        # Add a Logstash handler (replace with your Logstash configuration)\n",
    "                        logging.handlers.SocketHandler('localhost', 5000),\n",
    "                    ])\n"
   ]
  },
  {
   "cell_type": "code",
   "execution_count": 3,
   "id": "49034726",
   "metadata": {},
   "outputs": [],
   "source": [
    "#Create a log function:\n",
    "\n",
    "def log_message(message, level=logging.INFO):\n",
    "    logging.log(level, message)"
   ]
  },
  {
   "cell_type": "code",
   "execution_count": 4,
   "id": "5113abd6",
   "metadata": {},
   "outputs": [],
   "source": [
    "log_message(\"This is an informational message.\")\n",
    "log_message(\"Something went wrong!\", level=logging.ERROR)"
   ]
  },
  {
   "cell_type": "code",
   "execution_count": null,
   "id": "249b2bcf",
   "metadata": {},
   "outputs": [],
   "source": []
  }
 ],
 "metadata": {
  "kernelspec": {
   "display_name": "Python 3 (ipykernel)",
   "language": "python",
   "name": "python3"
  },
  "language_info": {
   "codemirror_mode": {
    "name": "ipython",
    "version": 3
   },
   "file_extension": ".py",
   "mimetype": "text/x-python",
   "name": "python",
   "nbconvert_exporter": "python",
   "pygments_lexer": "ipython3",
   "version": "3.11.4"
  }
 },
 "nbformat": 4,
 "nbformat_minor": 5
}
