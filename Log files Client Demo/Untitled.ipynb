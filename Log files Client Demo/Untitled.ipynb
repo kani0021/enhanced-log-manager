{
 "cells": [
  {
   "cell_type": "code",
   "execution_count": 1,
   "id": "df3c2aa5",
   "metadata": {},
   "outputs": [],
   "source": [
    "import pandas as pd\n",
    "import mpld3\n",
    "import matplotlib.pyplot as plt\n",
    "import plotly.express as px"
   ]
  },
  {
   "cell_type": "code",
   "execution_count": 5,
   "id": "9bef7f69",
   "metadata": {},
   "outputs": [
    {
     "ename": "SyntaxError",
     "evalue": "unterminated string literal (detected at line 2) (3873006489.py, line 2)",
     "output_type": "error",
     "traceback": [
      "\u001b[1;36m  Cell \u001b[1;32mIn[5], line 2\u001b[1;36m\u001b[0m\n\u001b[1;33m    [\" 01\u001b[0m\n\u001b[1;37m     ^\u001b[0m\n\u001b[1;31mSyntaxError\u001b[0m\u001b[1;31m:\u001b[0m unterminated string literal (detected at line 2)\n"
     ]
    }
   ],
   "source": [
    "log_entries = [\n",
    " \"2023-08-17 09:00:00 INFO: Starting application\n",
    "\n",
    "\"2023-08-17 09:01:15 ERROR: Database connection failed. Check credentials and network.\"\n",
    "    Details: SQLException - Connection timed out\n",
    "\n",
    "2023-08-17 09:02:30 INFO: User 'admin' logged in from IP 192.168.1.100\n",
    "\n",
    "2023-08-17 09:03:45 WARNING: Disk space critically low (Free space: 128MB). Take action to avoid data loss.\n",
    "\n",
    "2023-08-17 09:04:20 INFO: Processing request from client 10.0.0.50\n",
    "\n",
    "2023-08-17 09:05:10 ERROR: Unable to process request. Invalid data format.\n",
    "    Details: JSONParseException - Unexpected token '{' at position 15\n",
    "\n",
    "2023-08-17 09:06:30 INFO: Successfully backed up files to /backup/2023-08-17/\n",
    "\n",
    "2023-08-17 09:07:45 ERROR: Security breach detected! Unauthorized access attempt from IP 123.456.789.0\n",
    "\n",
    "2023-08-17 09:08:00 INFO: Updating user records\n",
    "\n",
    "2023-08-17 09:09:20 ERROR: Failed to update user records. Database query failed.\n",
    "    Details: SQLException - Table 'users' doesn't exist\n",
    "\n",
    "2023-08-17 09:10:30 INFO: Service restart initiated\n",
    "\n",
    "2023-08-17 09:11:05 INFO: Service restarted successfully\n",
    "\n",
    "2023-08-17 09:12:30 ERROR: Critical system error. Application crashed unexpectedly.\n",
    "\n",
    "2023-08-17 09:13:15 WARNING: High CPU usage detected (90%). Check for resource-intensive processes.\n",
    "\n",
    "2023-08-17 09:14:00 INFO: Automated system maintenance started\n",
    "\n",
    "2023-08-17 09:15:20 INFO: Automated system maintenance completed. \n",
    "\n",
    "2023-08-17 09:16:45 ERROR: Disk failure on device /dev/sda. Data may be corrupted.\n",
    "    Details: IOExcpetion - Input/Output error\n",
    "\n",
    "2023-08-17 09:17:00 INFO: Generating performance report\n",
    "\n",
    "2023-08-17 09:18:10 ERROR: Unable to generate performance report. Missing data files.\n",
    "    Details: FileNotFoundException - Data files not found\n",
    "\n",
    "2023-08-17 09:19:30 INFO: Application shutdown initiated\n",
    "\n",
    "2023-08-17 09:20:15 INFO: Application shutdown completed\n",
    "\n",
    "2023-08-17 09:21:00 INFO: System is now offline for maintenance\n",
    "\n",
    "2023-08-17 09:22:30 INFO: System maintenance extended. New update being applied.\n",
    "\n",
    "2023-08-17 09:23:45 ERROR: Update failed. Incompatible version.\n",
    "    Details: VersionMismatchException - Current version: 1.2.3, Required version: 2.0.0\"\n"
   ]
  },
  {
   "cell_type": "code",
   "execution_count": null,
   "id": "b0e037e0",
   "metadata": {},
   "outputs": [],
   "source": []
  }
 ],
 "metadata": {
  "kernelspec": {
   "display_name": "Python 3 (ipykernel)",
   "language": "python",
   "name": "python3"
  },
  "language_info": {
   "codemirror_mode": {
    "name": "ipython",
    "version": 3
   },
   "file_extension": ".py",
   "mimetype": "text/x-python",
   "name": "python",
   "nbconvert_exporter": "python",
   "pygments_lexer": "ipython3",
   "version": "3.11.4"
  }
 },
 "nbformat": 4,
 "nbformat_minor": 5
}
